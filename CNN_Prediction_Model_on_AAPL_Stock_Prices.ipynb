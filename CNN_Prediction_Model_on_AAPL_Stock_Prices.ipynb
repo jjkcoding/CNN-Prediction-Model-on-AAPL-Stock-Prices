{
  "nbformat": 4,
  "nbformat_minor": 0,
  "metadata": {
    "colab": {
      "name": "CNN Prediction Model on AAPL Stock Prices.ipynb",
      "provenance": [],
      "authorship_tag": "ABX9TyPujJysnQIbtvjYru7nFWqF",
      "include_colab_link": true
    },
    "kernelspec": {
      "name": "python3",
      "display_name": "Python 3"
    },
    "language_info": {
      "name": "python"
    }
  },
  "cells": [
    {
      "cell_type": "markdown",
      "metadata": {
        "id": "view-in-github",
        "colab_type": "text"
      },
      "source": [
        "<a href=\"https://colab.research.google.com/github/jjkcoding/CNN-Prediction-Model-on-AAPL-Stock-Prices/blob/main/CNN_Prediction_Model_on_AAPL_Stock_Prices.ipynb\" target=\"_parent\"><img src=\"https://colab.research.google.com/assets/colab-badge.svg\" alt=\"Open In Colab\"/></a>"
      ]
    },
    {
      "cell_type": "markdown",
      "source": [
        "# Convolutional Neural Network with AAPL Stock Prices"
      ],
      "metadata": {
        "id": "7XeZaxMbB2Zq"
      }
    },
    {
      "cell_type": "markdown",
      "source": [
        "## Description:\n",
        "Because I have recently been interested in stocks and neural networks, I wanted to try creating a univariate neural network using a Convolutional Neural Network. More specifically, I would use two month (60 days) of closing AAPL price stock data as an input to attempt to predict the next day's closing AAPL stock price data. Because stocks are unpredictable by only looking at the stock data alone, this project was to learn more about creating Convolutional Neural Networks and how they work rather than actually creating a model to predict AAPL stock prices. "
      ],
      "metadata": {
        "id": "dAM8Y28bCPO_"
      }
    },
    {
      "cell_type": "code",
      "execution_count": 1,
      "metadata": {
        "id": "E61hYLaRPz1Q",
        "colab": {
          "base_uri": "https://localhost:8080/"
        },
        "outputId": "f5f79f7b-329b-43f7-a319-bb759ef2cd78"
      },
      "outputs": [
        {
          "output_type": "stream",
          "name": "stdout",
          "text": [
            "Requirement already satisfied: yfinance in /usr/local/lib/python3.7/dist-packages (0.1.67)\n",
            "Requirement already satisfied: requests>=2.20 in /usr/local/lib/python3.7/dist-packages (from yfinance) (2.23.0)\n",
            "Requirement already satisfied: numpy>=1.15 in /usr/local/lib/python3.7/dist-packages (from yfinance) (1.19.5)\n",
            "Requirement already satisfied: pandas>=0.24 in /usr/local/lib/python3.7/dist-packages (from yfinance) (1.1.5)\n",
            "Requirement already satisfied: lxml>=4.5.1 in /usr/local/lib/python3.7/dist-packages (from yfinance) (4.7.1)\n",
            "Requirement already satisfied: multitasking>=0.0.7 in /usr/local/lib/python3.7/dist-packages (from yfinance) (0.0.10)\n",
            "Requirement already satisfied: pytz>=2017.2 in /usr/local/lib/python3.7/dist-packages (from pandas>=0.24->yfinance) (2018.9)\n",
            "Requirement already satisfied: python-dateutil>=2.7.3 in /usr/local/lib/python3.7/dist-packages (from pandas>=0.24->yfinance) (2.8.2)\n",
            "Requirement already satisfied: six>=1.5 in /usr/local/lib/python3.7/dist-packages (from python-dateutil>=2.7.3->pandas>=0.24->yfinance) (1.15.0)\n",
            "Requirement already satisfied: certifi>=2017.4.17 in /usr/local/lib/python3.7/dist-packages (from requests>=2.20->yfinance) (2021.10.8)\n",
            "Requirement already satisfied: chardet<4,>=3.0.2 in /usr/local/lib/python3.7/dist-packages (from requests>=2.20->yfinance) (3.0.4)\n",
            "Requirement already satisfied: urllib3!=1.25.0,!=1.25.1,<1.26,>=1.21.1 in /usr/local/lib/python3.7/dist-packages (from requests>=2.20->yfinance) (1.24.3)\n",
            "Requirement already satisfied: idna<3,>=2.5 in /usr/local/lib/python3.7/dist-packages (from requests>=2.20->yfinance) (2.10)\n"
          ]
        }
      ],
      "source": [
        "!pip install yfinance\n",
        "\n",
        "import pandas as pd\n",
        "import numpy as np\n",
        "import matplotlib.pyplot as plt\n",
        "from sklearn.preprocessing import StandardScaler\n",
        "from keras.models import Sequential\n",
        "from keras.layers import Dense\n",
        "from keras.layers import Flatten\n",
        "from keras.layers.convolutional import Conv1D\n",
        "from keras.layers.convolutional import MaxPooling1D\n",
        "from sklearn.metrics import mean_squared_error\n",
        "from keras.callbacks import History\n",
        "import math\n",
        "import yfinance as yf"
      ]
    },
    {
      "cell_type": "markdown",
      "source": [
        "Import AAPL closing stock price data from yahoo finance"
      ],
      "metadata": {
        "id": "j2jKtZKkFj6H"
      }
    },
    {
      "cell_type": "code",
      "source": [
        "apl = yf.Ticker(\"aapl\").history(period='max', interval='1d')\n",
        "apl.reset_index(inplace=True)\n",
        "close_apl = apl.Close.values"
      ],
      "metadata": {
        "id": "A57V4Etnn96H"
      },
      "execution_count": 2,
      "outputs": []
    },
    {
      "cell_type": "markdown",
      "source": [
        "Splitting the data into increments of 60 days for convolutional neural network model"
      ],
      "metadata": {
        "id": "iA_bKGTsFvp2"
      }
    },
    {
      "cell_type": "code",
      "source": [
        "X = []\n",
        "y = []\n",
        "inp_num = 60\n",
        "\n",
        "for i in range(inp_num, len(close_apl)):\n",
        "    X.append(close_apl[i-inp_num:i])\n",
        "    y.append(close_apl[i])\n",
        "\n",
        "X = np.array(X)\n",
        "y = np.array(y)"
      ],
      "metadata": {
        "id": "vPp0fZqYoAHW"
      },
      "execution_count": 3,
      "outputs": []
    },
    {
      "cell_type": "markdown",
      "source": [
        "Splitting the dataset into trianing and testing data (80% training data, 20% testing data)"
      ],
      "metadata": {
        "id": "HoCNJNFQGqi-"
      }
    },
    {
      "cell_type": "code",
      "source": [
        "split = int(len(X) * 0.8)\n",
        "X_train = X[:split]\n",
        "y_train = np.array(y[:split])\n",
        "X_test = X[split:]\n",
        "y_test = np.array(y[split:])"
      ],
      "metadata": {
        "id": "D2mbRi1ToDsm"
      },
      "execution_count": 4,
      "outputs": []
    },
    {
      "cell_type": "markdown",
      "source": [
        "Standardizing and reshaping the data to fit neural network"
      ],
      "metadata": {
        "id": "SFXsXgTaG6uX"
      }
    },
    {
      "cell_type": "code",
      "source": [
        "sc = StandardScaler()\n",
        "X_train = sc.fit_transform(X_train)\n",
        "X_test = sc.transform(X_test)\n",
        "\n",
        "X_train = np.reshape(X_train, (X_train.shape[0], X_train.shape[1], 1))\n",
        "X_test = np.reshape(X_test, (X_test.shape[0], X_test.shape[1], 1))"
      ],
      "metadata": {
        "id": "P0S1XKfVf_W3"
      },
      "execution_count": 5,
      "outputs": []
    },
    {
      "cell_type": "markdown",
      "source": [
        "Creating Convolutional Neural Network Model"
      ],
      "metadata": {
        "id": "Z3cwdxJbHH3T"
      }
    },
    {
      "cell_type": "code",
      "source": [
        "model = Sequential() \n",
        "model.add(Conv1D(filters=60, kernel_size=3, activation = \"relu\", input_shape=(inp_num, 1)))\n",
        "model.add(MaxPooling1D(pool_size=2))\n",
        "model.add(Flatten())\n",
        "model.add(Dense(60, activation=\"relu\"))\n",
        "model.add(Dense(1))\n",
        "\n",
        "model.compile(optimizer=\"adam\", loss=\"mse\")"
      ],
      "metadata": {
        "id": "TTyUgz6zoGy2"
      },
      "execution_count": 6,
      "outputs": []
    },
    {
      "cell_type": "markdown",
      "source": [
        "Training model to the training dataset"
      ],
      "metadata": {
        "id": "5zoMR6adHRGk"
      }
    },
    {
      "cell_type": "code",
      "source": [
        "hist = History() # Used to record loss per epoch\n",
        "model.fit(X_train, y_train, epochs=200, batch_size = 32, callbacks=[hist])"
      ],
      "metadata": {
        "colab": {
          "base_uri": "https://localhost:8080/"
        },
        "id": "aW4kyCyUoIdb",
        "outputId": "576d20ed-f3e2-48b5-e635-646af031a0e7"
      },
      "execution_count": 7,
      "outputs": [
        {
          "output_type": "stream",
          "name": "stdout",
          "text": [
            "Epoch 1/200\n",
            "258/258 [==============================] - 2s 6ms/step - loss: 0.7730\n",
            "Epoch 2/200\n",
            "258/258 [==============================] - 2s 8ms/step - loss: 0.1208\n",
            "Epoch 3/200\n",
            "258/258 [==============================] - 2s 8ms/step - loss: 0.0663\n",
            "Epoch 4/200\n",
            "258/258 [==============================] - 2s 8ms/step - loss: 0.0571\n",
            "Epoch 5/200\n",
            "258/258 [==============================] - 2s 8ms/step - loss: 0.0629\n",
            "Epoch 6/200\n",
            "258/258 [==============================] - 2s 8ms/step - loss: 0.0479\n",
            "Epoch 7/200\n",
            "258/258 [==============================] - 2s 8ms/step - loss: 0.0472\n",
            "Epoch 8/200\n",
            "258/258 [==============================] - 2s 7ms/step - loss: 0.0705\n",
            "Epoch 9/200\n",
            "258/258 [==============================] - 2s 8ms/step - loss: 0.0308\n",
            "Epoch 10/200\n",
            "258/258 [==============================] - 2s 7ms/step - loss: 0.0391\n",
            "Epoch 11/200\n",
            "258/258 [==============================] - 2s 8ms/step - loss: 0.0340\n",
            "Epoch 12/200\n",
            "258/258 [==============================] - 2s 8ms/step - loss: 0.0296\n",
            "Epoch 13/200\n",
            "258/258 [==============================] - 2s 8ms/step - loss: 0.0311\n",
            "Epoch 14/200\n",
            "258/258 [==============================] - 2s 8ms/step - loss: 0.0305\n",
            "Epoch 15/200\n",
            "258/258 [==============================] - 2s 7ms/step - loss: 0.0335\n",
            "Epoch 16/200\n",
            "258/258 [==============================] - 1s 4ms/step - loss: 0.0276\n",
            "Epoch 17/200\n",
            "258/258 [==============================] - 1s 4ms/step - loss: 0.0231\n",
            "Epoch 18/200\n",
            "258/258 [==============================] - 1s 4ms/step - loss: 0.0231\n",
            "Epoch 19/200\n",
            "258/258 [==============================] - 1s 4ms/step - loss: 0.0211\n",
            "Epoch 20/200\n",
            "258/258 [==============================] - 1s 4ms/step - loss: 0.0212\n",
            "Epoch 21/200\n",
            "258/258 [==============================] - 1s 4ms/step - loss: 0.0640\n",
            "Epoch 22/200\n",
            "258/258 [==============================] - 1s 4ms/step - loss: 0.0362\n",
            "Epoch 23/200\n",
            "258/258 [==============================] - 1s 4ms/step - loss: 0.0217\n",
            "Epoch 24/200\n",
            "258/258 [==============================] - 1s 4ms/step - loss: 0.0234\n",
            "Epoch 25/200\n",
            "258/258 [==============================] - 1s 4ms/step - loss: 0.0181\n",
            "Epoch 26/200\n",
            "258/258 [==============================] - 1s 4ms/step - loss: 0.0211\n",
            "Epoch 27/200\n",
            "258/258 [==============================] - 1s 4ms/step - loss: 0.0179\n",
            "Epoch 28/200\n",
            "258/258 [==============================] - 1s 4ms/step - loss: 0.0319\n",
            "Epoch 29/200\n",
            "258/258 [==============================] - 1s 4ms/step - loss: 0.0262\n",
            "Epoch 30/200\n",
            "258/258 [==============================] - 1s 4ms/step - loss: 0.0211\n",
            "Epoch 31/200\n",
            "258/258 [==============================] - 1s 4ms/step - loss: 0.0285\n",
            "Epoch 32/200\n",
            "258/258 [==============================] - 1s 4ms/step - loss: 0.0193\n",
            "Epoch 33/200\n",
            "258/258 [==============================] - 1s 5ms/step - loss: 0.0204\n",
            "Epoch 34/200\n",
            "258/258 [==============================] - 1s 4ms/step - loss: 0.0185\n",
            "Epoch 35/200\n",
            "258/258 [==============================] - 1s 4ms/step - loss: 0.0256\n",
            "Epoch 36/200\n",
            "258/258 [==============================] - 1s 4ms/step - loss: 0.0208\n",
            "Epoch 37/200\n",
            "258/258 [==============================] - 1s 4ms/step - loss: 0.0197\n",
            "Epoch 38/200\n",
            "258/258 [==============================] - 1s 4ms/step - loss: 0.0168\n",
            "Epoch 39/200\n",
            "258/258 [==============================] - 1s 4ms/step - loss: 0.0179\n",
            "Epoch 40/200\n",
            "258/258 [==============================] - 1s 4ms/step - loss: 0.0251\n",
            "Epoch 41/200\n",
            "258/258 [==============================] - 1s 4ms/step - loss: 0.0150\n",
            "Epoch 42/200\n",
            "258/258 [==============================] - 1s 4ms/step - loss: 0.0150\n",
            "Epoch 43/200\n",
            "258/258 [==============================] - 1s 4ms/step - loss: 0.0194\n",
            "Epoch 44/200\n",
            "258/258 [==============================] - 1s 4ms/step - loss: 0.0132\n",
            "Epoch 45/200\n",
            "258/258 [==============================] - 1s 4ms/step - loss: 0.0219\n",
            "Epoch 46/200\n",
            "258/258 [==============================] - 1s 4ms/step - loss: 0.0161\n",
            "Epoch 47/200\n",
            "258/258 [==============================] - 1s 4ms/step - loss: 0.0209\n",
            "Epoch 48/200\n",
            "258/258 [==============================] - 1s 4ms/step - loss: 0.0141\n",
            "Epoch 49/200\n",
            "258/258 [==============================] - 1s 4ms/step - loss: 0.0130\n",
            "Epoch 50/200\n",
            "258/258 [==============================] - 1s 4ms/step - loss: 0.0256\n",
            "Epoch 51/200\n",
            "258/258 [==============================] - 1s 4ms/step - loss: 0.0149\n",
            "Epoch 52/200\n",
            "258/258 [==============================] - 1s 4ms/step - loss: 0.0164\n",
            "Epoch 53/200\n",
            "258/258 [==============================] - 1s 4ms/step - loss: 0.0178\n",
            "Epoch 54/200\n",
            "258/258 [==============================] - 1s 4ms/step - loss: 0.0147\n",
            "Epoch 55/200\n",
            "258/258 [==============================] - 1s 5ms/step - loss: 0.0189\n",
            "Epoch 56/200\n",
            "258/258 [==============================] - 1s 4ms/step - loss: 0.0165\n",
            "Epoch 57/200\n",
            "258/258 [==============================] - 1s 4ms/step - loss: 0.0189\n",
            "Epoch 58/200\n",
            "258/258 [==============================] - 1s 4ms/step - loss: 0.0145\n",
            "Epoch 59/200\n",
            "258/258 [==============================] - 1s 5ms/step - loss: 0.0172\n",
            "Epoch 60/200\n",
            "258/258 [==============================] - 1s 4ms/step - loss: 0.0166\n",
            "Epoch 61/200\n",
            "258/258 [==============================] - 1s 5ms/step - loss: 0.0138\n",
            "Epoch 62/200\n",
            "258/258 [==============================] - 1s 5ms/step - loss: 0.0143\n",
            "Epoch 63/200\n",
            "258/258 [==============================] - 1s 5ms/step - loss: 0.0184\n",
            "Epoch 64/200\n",
            "258/258 [==============================] - 1s 5ms/step - loss: 0.0179\n",
            "Epoch 65/200\n",
            "258/258 [==============================] - 1s 5ms/step - loss: 0.0161\n",
            "Epoch 66/200\n",
            "258/258 [==============================] - 1s 5ms/step - loss: 0.0171\n",
            "Epoch 67/200\n",
            "258/258 [==============================] - 1s 4ms/step - loss: 0.0150\n",
            "Epoch 68/200\n",
            "258/258 [==============================] - 1s 4ms/step - loss: 0.0150\n",
            "Epoch 69/200\n",
            "258/258 [==============================] - 1s 4ms/step - loss: 0.0155\n",
            "Epoch 70/200\n",
            "258/258 [==============================] - 1s 4ms/step - loss: 0.0182\n",
            "Epoch 71/200\n",
            "258/258 [==============================] - 1s 5ms/step - loss: 0.0137\n",
            "Epoch 72/200\n",
            "258/258 [==============================] - 1s 4ms/step - loss: 0.0173\n",
            "Epoch 73/200\n",
            "258/258 [==============================] - 1s 5ms/step - loss: 0.0138\n",
            "Epoch 74/200\n",
            "258/258 [==============================] - 1s 4ms/step - loss: 0.0151\n",
            "Epoch 75/200\n",
            "258/258 [==============================] - 1s 4ms/step - loss: 0.0148\n",
            "Epoch 76/200\n",
            "258/258 [==============================] - 1s 4ms/step - loss: 0.0200\n",
            "Epoch 77/200\n",
            "258/258 [==============================] - 1s 5ms/step - loss: 0.0147\n",
            "Epoch 78/200\n",
            "258/258 [==============================] - 1s 4ms/step - loss: 0.0157\n",
            "Epoch 79/200\n",
            "258/258 [==============================] - 1s 4ms/step - loss: 0.0136\n",
            "Epoch 80/200\n",
            "258/258 [==============================] - 1s 4ms/step - loss: 0.0156\n",
            "Epoch 81/200\n",
            "258/258 [==============================] - 1s 4ms/step - loss: 0.0160\n",
            "Epoch 82/200\n",
            "258/258 [==============================] - 1s 5ms/step - loss: 0.0138\n",
            "Epoch 83/200\n",
            "258/258 [==============================] - 1s 4ms/step - loss: 0.0169\n",
            "Epoch 84/200\n",
            "258/258 [==============================] - 1s 4ms/step - loss: 0.0133\n",
            "Epoch 85/200\n",
            "258/258 [==============================] - 1s 4ms/step - loss: 0.0171\n",
            "Epoch 86/200\n",
            "258/258 [==============================] - 2s 7ms/step - loss: 0.0127\n",
            "Epoch 87/200\n",
            "258/258 [==============================] - 2s 6ms/step - loss: 0.0120\n",
            "Epoch 88/200\n",
            "258/258 [==============================] - 1s 5ms/step - loss: 0.0156\n",
            "Epoch 89/200\n",
            "258/258 [==============================] - 1s 4ms/step - loss: 0.0147\n",
            "Epoch 90/200\n",
            "258/258 [==============================] - 1s 4ms/step - loss: 0.0133\n",
            "Epoch 91/200\n",
            "258/258 [==============================] - 1s 4ms/step - loss: 0.0147\n",
            "Epoch 92/200\n",
            "258/258 [==============================] - 1s 4ms/step - loss: 0.0124\n",
            "Epoch 93/200\n",
            "258/258 [==============================] - 1s 4ms/step - loss: 0.0143\n",
            "Epoch 94/200\n",
            "258/258 [==============================] - 1s 4ms/step - loss: 0.0130\n",
            "Epoch 95/200\n",
            "258/258 [==============================] - 1s 4ms/step - loss: 0.0184\n",
            "Epoch 96/200\n",
            "258/258 [==============================] - 1s 4ms/step - loss: 0.0127\n",
            "Epoch 97/200\n",
            "258/258 [==============================] - 1s 5ms/step - loss: 0.0143\n",
            "Epoch 98/200\n",
            "258/258 [==============================] - 1s 4ms/step - loss: 0.0144\n",
            "Epoch 99/200\n",
            "258/258 [==============================] - 1s 4ms/step - loss: 0.0140\n",
            "Epoch 100/200\n",
            "258/258 [==============================] - 1s 4ms/step - loss: 0.0160\n",
            "Epoch 101/200\n",
            "258/258 [==============================] - 1s 4ms/step - loss: 0.0160\n",
            "Epoch 102/200\n",
            "258/258 [==============================] - 1s 4ms/step - loss: 0.0141\n",
            "Epoch 103/200\n",
            "258/258 [==============================] - 1s 4ms/step - loss: 0.0130\n",
            "Epoch 104/200\n",
            "258/258 [==============================] - 1s 4ms/step - loss: 0.0154\n",
            "Epoch 105/200\n",
            "258/258 [==============================] - 1s 4ms/step - loss: 0.0133\n",
            "Epoch 106/200\n",
            "258/258 [==============================] - 1s 5ms/step - loss: 0.0174\n",
            "Epoch 107/200\n",
            "258/258 [==============================] - 1s 4ms/step - loss: 0.0139\n",
            "Epoch 108/200\n",
            "258/258 [==============================] - 1s 4ms/step - loss: 0.0134\n",
            "Epoch 109/200\n",
            "258/258 [==============================] - 1s 4ms/step - loss: 0.0133\n",
            "Epoch 110/200\n",
            "258/258 [==============================] - 1s 4ms/step - loss: 0.0157\n",
            "Epoch 111/200\n",
            "258/258 [==============================] - 1s 4ms/step - loss: 0.0131\n",
            "Epoch 112/200\n",
            "258/258 [==============================] - 1s 5ms/step - loss: 0.0118\n",
            "Epoch 113/200\n",
            "258/258 [==============================] - 1s 4ms/step - loss: 0.0117\n",
            "Epoch 114/200\n",
            "258/258 [==============================] - 1s 4ms/step - loss: 0.0131\n",
            "Epoch 115/200\n",
            "258/258 [==============================] - 1s 4ms/step - loss: 0.0155\n",
            "Epoch 116/200\n",
            "258/258 [==============================] - 1s 4ms/step - loss: 0.0184\n",
            "Epoch 117/200\n",
            "258/258 [==============================] - 1s 4ms/step - loss: 0.0129\n",
            "Epoch 118/200\n",
            "258/258 [==============================] - 1s 4ms/step - loss: 0.0150\n",
            "Epoch 119/200\n",
            "258/258 [==============================] - 1s 4ms/step - loss: 0.0130\n",
            "Epoch 120/200\n",
            "258/258 [==============================] - 1s 5ms/step - loss: 0.0135\n",
            "Epoch 121/200\n",
            "258/258 [==============================] - 1s 4ms/step - loss: 0.0163\n",
            "Epoch 122/200\n",
            "258/258 [==============================] - 1s 4ms/step - loss: 0.0135\n",
            "Epoch 123/200\n",
            "258/258 [==============================] - 1s 4ms/step - loss: 0.0145\n",
            "Epoch 124/200\n",
            "258/258 [==============================] - 1s 4ms/step - loss: 0.0150\n",
            "Epoch 125/200\n",
            "258/258 [==============================] - 1s 4ms/step - loss: 0.0119\n",
            "Epoch 126/200\n",
            "258/258 [==============================] - 1s 4ms/step - loss: 0.0133\n",
            "Epoch 127/200\n",
            "258/258 [==============================] - 1s 4ms/step - loss: 0.0132\n",
            "Epoch 128/200\n",
            "258/258 [==============================] - 1s 4ms/step - loss: 0.0118\n",
            "Epoch 129/200\n",
            "258/258 [==============================] - 1s 4ms/step - loss: 0.0128\n",
            "Epoch 130/200\n",
            "258/258 [==============================] - 1s 5ms/step - loss: 0.0126\n",
            "Epoch 131/200\n",
            "258/258 [==============================] - 1s 5ms/step - loss: 0.0123\n",
            "Epoch 132/200\n",
            "258/258 [==============================] - 1s 4ms/step - loss: 0.0128\n",
            "Epoch 133/200\n",
            "258/258 [==============================] - 1s 4ms/step - loss: 0.0128\n",
            "Epoch 134/200\n",
            "258/258 [==============================] - 1s 4ms/step - loss: 0.0169\n",
            "Epoch 135/200\n",
            "258/258 [==============================] - 1s 4ms/step - loss: 0.0109\n",
            "Epoch 136/200\n",
            "258/258 [==============================] - 1s 4ms/step - loss: 0.0112\n",
            "Epoch 137/200\n",
            "258/258 [==============================] - 1s 4ms/step - loss: 0.0152\n",
            "Epoch 138/200\n",
            "258/258 [==============================] - 1s 4ms/step - loss: 0.0171\n",
            "Epoch 139/200\n",
            "258/258 [==============================] - 1s 4ms/step - loss: 0.0118\n",
            "Epoch 140/200\n",
            "258/258 [==============================] - 2s 7ms/step - loss: 0.0125\n",
            "Epoch 141/200\n",
            "258/258 [==============================] - 2s 9ms/step - loss: 0.0147\n",
            "Epoch 142/200\n",
            "258/258 [==============================] - 2s 9ms/step - loss: 0.0119\n",
            "Epoch 143/200\n",
            "258/258 [==============================] - 2s 8ms/step - loss: 0.0136\n",
            "Epoch 144/200\n",
            "258/258 [==============================] - 2s 9ms/step - loss: 0.0144\n",
            "Epoch 145/200\n",
            "258/258 [==============================] - 2s 8ms/step - loss: 0.0134\n",
            "Epoch 146/200\n",
            "258/258 [==============================] - 2s 8ms/step - loss: 0.0146\n",
            "Epoch 147/200\n",
            "258/258 [==============================] - 2s 9ms/step - loss: 0.0125\n",
            "Epoch 148/200\n",
            "258/258 [==============================] - 2s 7ms/step - loss: 0.0140\n",
            "Epoch 149/200\n",
            "258/258 [==============================] - 1s 4ms/step - loss: 0.0112\n",
            "Epoch 150/200\n",
            "258/258 [==============================] - 1s 4ms/step - loss: 0.0126\n",
            "Epoch 151/200\n",
            "258/258 [==============================] - 1s 4ms/step - loss: 0.0127\n",
            "Epoch 152/200\n",
            "258/258 [==============================] - 1s 4ms/step - loss: 0.0124\n",
            "Epoch 153/200\n",
            "258/258 [==============================] - 1s 4ms/step - loss: 0.0141\n",
            "Epoch 154/200\n",
            "258/258 [==============================] - 1s 4ms/step - loss: 0.0129\n",
            "Epoch 155/200\n",
            "258/258 [==============================] - 1s 4ms/step - loss: 0.0118\n",
            "Epoch 156/200\n",
            "258/258 [==============================] - 1s 4ms/step - loss: 0.0118\n",
            "Epoch 157/200\n",
            "258/258 [==============================] - 1s 4ms/step - loss: 0.0144\n",
            "Epoch 158/200\n",
            "258/258 [==============================] - 1s 5ms/step - loss: 0.0172\n",
            "Epoch 159/200\n",
            "258/258 [==============================] - 1s 5ms/step - loss: 0.0131\n",
            "Epoch 160/200\n",
            "258/258 [==============================] - 1s 4ms/step - loss: 0.0129\n",
            "Epoch 161/200\n",
            "258/258 [==============================] - 1s 4ms/step - loss: 0.0111\n",
            "Epoch 162/200\n",
            "258/258 [==============================] - 1s 5ms/step - loss: 0.0119\n",
            "Epoch 163/200\n",
            "258/258 [==============================] - 1s 4ms/step - loss: 0.0139\n",
            "Epoch 164/200\n",
            "258/258 [==============================] - 1s 5ms/step - loss: 0.0127\n",
            "Epoch 165/200\n",
            "258/258 [==============================] - 1s 4ms/step - loss: 0.0117\n",
            "Epoch 166/200\n",
            "258/258 [==============================] - 1s 5ms/step - loss: 0.0120\n",
            "Epoch 167/200\n",
            "258/258 [==============================] - 1s 4ms/step - loss: 0.0125\n",
            "Epoch 168/200\n",
            "258/258 [==============================] - 1s 4ms/step - loss: 0.0197\n",
            "Epoch 169/200\n",
            "258/258 [==============================] - 1s 4ms/step - loss: 0.0111\n",
            "Epoch 170/200\n",
            "258/258 [==============================] - 1s 4ms/step - loss: 0.0129\n",
            "Epoch 171/200\n",
            "258/258 [==============================] - 1s 4ms/step - loss: 0.0168\n",
            "Epoch 172/200\n",
            "258/258 [==============================] - 1s 4ms/step - loss: 0.0117\n",
            "Epoch 173/200\n",
            "258/258 [==============================] - 1s 4ms/step - loss: 0.0130\n",
            "Epoch 174/200\n",
            "258/258 [==============================] - 1s 4ms/step - loss: 0.0127\n",
            "Epoch 175/200\n",
            "258/258 [==============================] - 1s 4ms/step - loss: 0.0104\n",
            "Epoch 176/200\n",
            "258/258 [==============================] - 1s 4ms/step - loss: 0.0134\n",
            "Epoch 177/200\n",
            "258/258 [==============================] - 1s 4ms/step - loss: 0.0135\n",
            "Epoch 178/200\n",
            "258/258 [==============================] - 1s 4ms/step - loss: 0.0108\n",
            "Epoch 179/200\n",
            "258/258 [==============================] - 1s 4ms/step - loss: 0.0149\n",
            "Epoch 180/200\n",
            "258/258 [==============================] - 1s 4ms/step - loss: 0.0111\n",
            "Epoch 181/200\n",
            "258/258 [==============================] - 1s 4ms/step - loss: 0.0145\n",
            "Epoch 182/200\n",
            "258/258 [==============================] - 1s 4ms/step - loss: 0.0174\n",
            "Epoch 183/200\n",
            "258/258 [==============================] - 1s 5ms/step - loss: 0.0118\n",
            "Epoch 184/200\n",
            "258/258 [==============================] - 1s 4ms/step - loss: 0.0118\n",
            "Epoch 185/200\n",
            "258/258 [==============================] - 1s 4ms/step - loss: 0.0106\n",
            "Epoch 186/200\n",
            "258/258 [==============================] - 1s 4ms/step - loss: 0.0126\n",
            "Epoch 187/200\n",
            "258/258 [==============================] - 1s 4ms/step - loss: 0.0210\n",
            "Epoch 188/200\n",
            "258/258 [==============================] - 1s 4ms/step - loss: 0.0126\n",
            "Epoch 189/200\n",
            "258/258 [==============================] - 1s 5ms/step - loss: 0.0104\n",
            "Epoch 190/200\n",
            "258/258 [==============================] - 1s 4ms/step - loss: 0.0142\n",
            "Epoch 191/200\n",
            "258/258 [==============================] - 1s 4ms/step - loss: 0.0116\n",
            "Epoch 192/200\n",
            "258/258 [==============================] - 1s 4ms/step - loss: 0.0133\n",
            "Epoch 193/200\n",
            "258/258 [==============================] - 1s 4ms/step - loss: 0.0110\n",
            "Epoch 194/200\n",
            "258/258 [==============================] - 1s 5ms/step - loss: 0.0109\n",
            "Epoch 195/200\n",
            "258/258 [==============================] - 1s 5ms/step - loss: 0.0116\n",
            "Epoch 196/200\n",
            "258/258 [==============================] - 1s 4ms/step - loss: 0.0108\n",
            "Epoch 197/200\n",
            "258/258 [==============================] - 1s 4ms/step - loss: 0.0108\n",
            "Epoch 198/200\n",
            "258/258 [==============================] - 1s 4ms/step - loss: 0.0108\n",
            "Epoch 199/200\n",
            "258/258 [==============================] - 1s 5ms/step - loss: 0.0109\n",
            "Epoch 200/200\n",
            "258/258 [==============================] - 1s 5ms/step - loss: 0.0126\n"
          ]
        },
        {
          "output_type": "execute_result",
          "data": {
            "text/plain": [
              "<keras.callbacks.History at 0x7feff4baad50>"
            ]
          },
          "metadata": {},
          "execution_count": 7
        }
      ]
    },
    {
      "cell_type": "markdown",
      "source": [
        "Plotting losses by epoch to see roughly where the losses start to converge towards"
      ],
      "metadata": {
        "id": "puhr5eXAHdVb"
      }
    },
    {
      "cell_type": "code",
      "source": [
        "losses = hist.history['loss']\n",
        "plt.plot(np.arange(1, len(losses) + 1),losses)\n",
        "plt.title(\"Losses By Epoch\")\n",
        "plt.xlabel(\"Epoch\")\n",
        "plt.ylabel(\"Losses\")\n",
        "plt.show()"
      ],
      "metadata": {
        "id": "62arXlaZz_eM",
        "colab": {
          "base_uri": "https://localhost:8080/",
          "height": 295
        },
        "outputId": "b40d5bf6-cd7a-48ea-872d-55d9e7ee5fcb"
      },
      "execution_count": 8,
      "outputs": [
        {
          "output_type": "display_data",
          "data": {
            "image/png": "[encoded data removed]",
            "text/plain": [
              "<Figure size 432x288 with 1 Axes>"
            ]
          },
          "metadata": {
            "needs_background": "light"
          }
        }
      ]
    },
    {
      "cell_type": "markdown",
      "source": [
        "Predict values of the testing dataset"
      ],
      "metadata": {
        "id": "j2gprLwdHu9_"
      }
    },
    {
      "cell_type": "code",
      "source": [
        "yhat = model.predict(X_test)\n",
        "yhat = yhat.reshape(yhat.shape[0],)"
      ],
      "metadata": {
        "id": "rGx2MZqJoKaK"
      },
      "execution_count": 9,
      "outputs": []
    },
    {
      "cell_type": "markdown",
      "source": [
        "Calculate Root Mean Square Error to compare predicted values to actual values"
      ],
      "metadata": {
        "id": "YZ30VgogIXtc"
      }
    },
    {
      "cell_type": "code",
      "source": [
        "mse = math.sqrt(mean_squared_error(y_test, yhat))\n",
        "print(\"RMSE = \" + str(mse))"
      ],
      "metadata": {
        "colab": {
          "base_uri": "https://localhost:8080/"
        },
        "id": "w8k7M5cjIX3T",
        "outputId": "fa92d42a-2131-4a4b-fe53-b11241526dd5"
      },
      "execution_count": 10,
      "outputs": [
        {
          "output_type": "stream",
          "name": "stdout",
          "text": [
            "RMSE = 1.6669066176404288\n"
          ]
        }
      ]
    },
    {
      "cell_type": "markdown",
      "source": [
        "Plot and Compare closing stock predicted and actual stock prices"
      ],
      "metadata": {
        "id": "ZXEpGmQkH5R2"
      }
    },
    {
      "cell_type": "code",
      "source": [
        "plt.plot(y_test, color=\"red\", label=\"Actual\")\n",
        "plt.plot(yhat, color = \"blue\", label = \"Predicted\")\n",
        "plt.title(\"AAPL Close Stock Prices\")\n",
        "plt.xlabel(\"Time\")\n",
        "plt.ylabel(\"Stock Price\")\n",
        "plt.legend()\n",
        "plt.show()"
      ],
      "metadata": {
        "id": "8ZWEFp_koMOZ",
        "colab": {
          "base_uri": "https://localhost:8080/",
          "height": 295
        },
        "outputId": "07ca1640-2beb-457e-b913-17690400b4a3"
      },
      "execution_count": 11,
      "outputs": [
        {
          "output_type": "display_data",
          "data": {
            "image/png": "[encoded data removed]",
            "text/plain": [
              "<Figure size 432x288 with 1 Axes>"
            ]
          },
          "metadata": {
            "needs_background": "light"
          }
        }
      ]
    },
    {
      "cell_type": "markdown",
      "source": [
        "Predicting the next day AAPL stock closing price"
      ],
      "metadata": {
        "id": "SHnhfql2Ip6O"
      }
    },
    {
      "cell_type": "code",
      "source": [
        "last_vals = close_apl[len(close_apl) - inp_num:len(close_apl)]\n",
        "last_vals = sc.transform(np.reshape(last_vals, (1, last_vals.shape[0])))\n",
        "pred_vals = model.predict(last_vals)[0]\n",
        "print(\"Next day predicted closing price: \" + str(pred_vals[0]))"
      ],
      "metadata": {
        "id": "K-Yojt4NhJBk",
        "colab": {
          "base_uri": "https://localhost:8080/"
        },
        "outputId": "01acd41d-270a-48a2-80ca-638075d4acaa"
      },
      "execution_count": 12,
      "outputs": [
        {
          "output_type": "stream",
          "name": "stdout",
          "text": [
            "Next day predicted closing price: 174.40346\n"
          ]
        }
      ]
    },
    {
      "cell_type": "markdown",
      "source": [
        "Plotting last 50 days with the latest predicted value above"
      ],
      "metadata": {
        "id": "6X_1cPh6KcZu"
      }
    },
    {
      "cell_type": "code",
      "source": [
        "prev_val = 50\n",
        "latest_close = np.concatenate((close_apl[len(close_apl) - prev_val:], pred_vals))\n",
        "\n",
        "plt.plot(latest_close)\n",
        "plt.title(\"Latest AAPL Stock Prices with Prediction\")\n",
        "plt.xlabel(\"Time\")\n",
        "plt.ylabel(\"Stock Price\")\n",
        "plt.show()"
      ],
      "metadata": {
        "id": "ipGyU8pohQbg",
        "colab": {
          "base_uri": "https://localhost:8080/",
          "height": 295
        },
        "outputId": "b475c7f7-c71a-490e-9d53-bc648230b817"
      },
      "execution_count": 14,
      "outputs": [
        {
          "output_type": "display_data",
          "data": {
            "image/png": "[encoded data removed]",
            "text/plain": [
              "<Figure size 432x288 with 1 Axes>"
            ]
          },
          "metadata": {
            "needs_background": "light"
          }
        }
      ]
    }
  ]
}